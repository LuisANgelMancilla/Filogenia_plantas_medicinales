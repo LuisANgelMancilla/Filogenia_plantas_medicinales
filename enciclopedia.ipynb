{
  "nbformat": 4,
  "nbformat_minor": 0,
  "metadata": {
    "kernelspec": {
      "display_name": "Python 3",
      "language": "python",
      "name": "python3"
    },
    "language_info": {
      "codemirror_mode": {
        "name": "ipython",
        "version": 3
      },
      "file_extension": ".py",
      "mimetype": "text/x-python",
      "name": "python",
      "nbconvert_exporter": "python",
      "pygments_lexer": "ipython3",
      "version": "3.8.3"
    },
    "colab": {
      "name": "enciclopedia.ipynb",
      "provenance": []
    }
  },
  "cells": [
    {
      "cell_type": "code",
      "metadata": {
        "colab": {
          "base_uri": "https://localhost:8080/"
        },
        "id": "WVyRdfkVvfZ3",
        "outputId": "ca73a729-cae0-4695-e34a-ce008b85b2aa"
      },
      "source": [
        "import webbrowser\n",
        "planta = (\"\"\"Hola, bienvenidx a la enciclopedia de plantas medicinales (: \n",
        "   ____________________________________\n",
        "   ------------------------------------\n",
        "   ||              &&&               ||\n",
        "   ||            %#%%%%% /#          ||\n",
        "   ||        *#. ###%%& (###%        ||\n",
        "   ||        #(%%* #%%%#% %###       ||\n",
        "   ||      ###  ###%%%%%%#(( ##      ||\n",
        "   ||        ###%%%%%%## %%#((#      ||\n",
        "   ||     ###%%%#&#%&%%### ,%###     ||\n",
        "   ||       %%.  %%%%%%#######%      ||\n",
        "   ||        #((#%%%&&%#(#%%#(       ||\n",
        "   ||          %%# % #%%%#,          ||\n",
        "   ||               %                ||\n",
        "   ____________________________________\n",
        "   ------------------------------------\n",
        "\n",
        "Este es un banco de filogenias de componentes activos de plantas los cuales son utilizados para tratar diferentes enfermedades,\n",
        "En él encontrarás información de cada compuesto y ... \n",
        "una vez dentro del árbol de cada compuesto puedes dar click para ir a la información de la planta y de la secuencia\n",
        "utilizada \\n\"\"\")\n",
        "\n",
        "func_comp = (\"\"\"    Para...\n",
        "    Para...\n",
        "    Para...\n",
        "    Para... \\n\"\"\")\n",
        "\n",
        "des_func = (\"\"\"    1-\n",
        "    2- \n",
        "    3-\n",
        "    4- \\n\"\"\")\n",
        "\n",
        "para_1 = (\"http://stackoverflow.com\")\n",
        "para_2 = (\"https://htmlpreview.github.io/?https://github.com/cxro-cc/prueba/blob/main/corregido.html\")\n",
        "\n",
        "print (planta)\n",
        "\n",
        "op= str(input(\"\"\" Por el momento solo tenemos plantas para tratar la diabetes, \n",
        "¿Deseas ver la función de cada compuesto? (s/n) \\n\"\"\"))\n",
        "if op == \"s\":\n",
        "    print (func_comp)\n",
        "    interes = str(input(\"\"\"¿Te interesa ver alguno? (s/n) \\n\"\"\"))\n",
        "    if interes == \"s\":\n",
        "        elige = str(input(des_func))\n",
        "        if elige == \"1\":\n",
        "            webbrowser.open(para_1)\n",
        "        elif elige == \"2\":\n",
        "            webbrowser.open(para_2)\n",
        "        else:\n",
        "            print (\"oh, eso no hay\")\n",
        "    else:\n",
        "        print (\"Uh... lo intentamos\")\n",
        "        quit()\n",
        "else:\n",
        "    print (\"Bueno, adiós (:\")\n",
        "    "
      ],
      "execution_count": null,
      "outputs": [
        {
          "output_type": "stream",
          "text": [
            "Hola, bienvenidx a la enciclopedia de plantas medicinales (: \n",
            "   ____________________________________\n",
            "   ------------------------------------\n",
            "   ||              &&&               ||\n",
            "   ||            %#%%%%% /#          ||\n",
            "   ||        *#. ###%%& (###%        ||\n",
            "   ||        #(%%* #%%%#% %###       ||\n",
            "   ||      ###  ###%%%%%%#(( ##      ||\n",
            "   ||        ###%%%%%%## %%#((#      ||\n",
            "   ||     ###%%%#&#%&%%### ,%###     ||\n",
            "   ||       %%.  %%%%%%#######%      ||\n",
            "   ||        #((#%%%&&%#(#%%#(       ||\n",
            "   ||          %%# % #%%%#,          ||\n",
            "   ||               %                ||\n",
            "   ____________________________________\n",
            "   ------------------------------------\n",
            "\n",
            "Este es un banco de filogenias de componentes activos de plantas los cuales son utilizados para tratar diferentes enfermedades,\n",
            "En él encontrarás información de cada compuesto y ... \n",
            "una vez dentro del árbol de cada compuesto puedes dar click para ir a la información de la planta y de la secuencia\n",
            "utilizada \n",
            "\n"
          ],
          "name": "stdout"
        }
      ]
    },
    {
      "cell_type": "code",
      "metadata": {
        "id": "DFQFbLhdvfaQ"
      },
      "source": [
        ""
      ],
      "execution_count": null,
      "outputs": []
    },
    {
      "cell_type": "code",
      "metadata": {
        "id": "pthdjfCHvfaS"
      },
      "source": [
        ""
      ],
      "execution_count": null,
      "outputs": []
    }
  ]
}